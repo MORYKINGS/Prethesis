{
 "cells": [
  {
   "cell_type": "code",
   "execution_count": 7,
   "metadata": {},
   "outputs": [],
   "source": [
    "import numpy as np # linear algebra\n",
    "import pandas as pd # data processing\n",
    "import re #pattern searching in a string\n",
    "\n",
    "import seaborn as sns\n",
    "import matplotlib.pyplot as plt\n",
    "sns.set(style='darkgrid')"
   ]
  },
  {
   "cell_type": "code",
   "execution_count": 8,
   "metadata": {},
   "outputs": [
    {
     "data": {
      "image/png": "[encoded data removed]",
      "text/plain": [
       "<Figure size 700x100 with 1 Axes>"
      ]
     },
     "metadata": {},
     "output_type": "display_data"
    },
    {
     "data": {
      "image/png": "[encoded data removed]",
      "text/plain": [
       "<Figure size 1200x100 with 1 Axes>"
      ]
     },
     "metadata": {},
     "output_type": "display_data"
    },
    {
     "data": {
      "image/png": "[encoded data removed]",
      "text/plain": [
       "<Figure size 600x100 with 1 Axes>"
      ]
     },
     "metadata": {},
     "output_type": "display_data"
    }
   ],
   "source": [
    "qual_colors1 = ['#1b9e77','#d95f02','#7570b3','#e7298a','#66a61e','#e6ab02','#a6761d']\n",
    "qual_colors1 = sns.color_palette(sns.color_palette(qual_colors1))\n",
    "sns.palplot(qual_colors1)\n",
    "\n",
    "qual_colors2 = ['#6930c3','#023e8a','#F72585','#38a3a5','#1dd3b0','#b7094c','#e0b1cb','#1a5b92','#80ed99','#e6ab02','#d95f02','#5fa8d3']\n",
    "qual_colors2 = sns.color_palette(sns.color_palette(qual_colors2))\n",
    "sns.palplot(qual_colors2)\n",
    "\n",
    "num_pal = sns.color_palette(\"flare\")\n",
    "sns.palplot(num_pal)"
   ]
  },
  {
   "cell_type": "code",
   "execution_count": 11,
   "metadata": {},
   "outputs": [
    {
     "ename": "SyntaxError",
     "evalue": "(unicode error) 'unicodeescape' codec can't decode bytes in position 2-3: truncated \\UXXXXXXXX escape (2335391859.py, line 1)",
     "output_type": "error",
     "traceback": [
      "\u001b[1;36m  File \u001b[1;32m\"C:\\Users\\PC\\AppData\\Local\\Temp\\ipykernel_30572\\2335391859.py\"\u001b[1;36m, line \u001b[1;32m1\u001b[0m\n\u001b[1;33m    df18 = pd.read_csv('C:\\Users\\PC\\Desktop\\Prethesis\\data_csv\\data_2018.csv', parse_dates=['transaction_date'], date_format='%Y-%m-%d')\u001b[0m\n\u001b[1;37m                      ^\u001b[0m\n\u001b[1;31mSyntaxError\u001b[0m\u001b[1;31m:\u001b[0m (unicode error) 'unicodeescape' codec can't decode bytes in position 2-3: truncated \\UXXXXXXXX escape\n"
     ]
    }
   ],
   "source": [
    "df18 = pd.read_csv('C:\\Users\\PC\\Desktop\\Prethesis\\data_csv\\data_2018.csv', parse_dates=['transaction_date'], date_format='%Y-%m-%d')\n",
    "df19 = pd.read_csv('C:\\Users\\PC\\Desktop\\Prethesis\\data_csv\\data_2019.csv', parse_dates=['transaction_date'], date_format='%Y-%m-%d')\n",
    "df20 = pd.read_csv('C:\\Users\\PC\\Desktop\\Prethesis\\data_csv\\data_2020.csv', parse_dates=['transaction_date'], date_format='%Y-%m-%d')\n",
    "df21 = pd.read_csv('C:\\Users\\PC\\Desktop\\Prethesis\\data_csv\\data_2021.csv', parse_dates=['transaction_date'], date_format='%Y-%m-%d')\n",
    "df22 = pd.read_csv('C:\\Users\\PC\\Desktop\\Prethesis\\data_csv\\data_2022.csv', parse_dates=['transaction_date'], date_format='%Y-%m-%d')"
   ]
  }
 ],
 "metadata": {
  "kernelspec": {
   "display_name": "Python 3",
   "language": "python",
   "name": "python3"
  },
  "language_info": {
   "codemirror_mode": {
    "name": "ipython",
    "version": 3
   },
   "file_extension": ".py",
   "mimetype": "text/x-python",
   "name": "python",
   "nbconvert_exporter": "python",
   "pygments_lexer": "ipython3",
   "version": "3.7.8"
  }
 },
 "nbformat": 4,
 "nbformat_minor": 2
}
